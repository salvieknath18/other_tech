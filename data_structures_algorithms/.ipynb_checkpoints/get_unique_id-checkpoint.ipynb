{
 "cells": [
  {
   "cell_type": "code",
   "execution_count": 5,
   "metadata": {},
   "outputs": [
    {
     "name": "stdout",
     "output_type": "stream",
     "text": [
      "4911097116104461159710811810564103109971051084699111109\n",
      "11001101000110001101010000000111011110010011111001111011000111101100101011111110010000101011001101111010011100010100110101101100110000101100010110110101101110001100111000111011000101\n"
     ]
    }
   ],
   "source": [
    "email = \"1nath.salvi@gmail.com\"\n",
    "email_num_str = \"\"\n",
    "\n",
    "for i in email:\n",
    "    email_num_str += str(ord(i))\n",
    "print(email_num_str)\n",
    "bin_str = str(bin(int(email_num_str)))[2:]\n",
    "print(bin_str)\n",
    "def get_successive_count(old_str):\n",
    "    str_new = \"\"\n",
    "    prev = old_str[0]\n",
    "    cnt = 0\n",
    "    for i in old_str:\n",
    "        if prev == i:\n",
    "            cnt += 1\n",
    "        else:\n",
    "            str_new += f\"{str(cnt)}\"\n",
    "            prev = i\n",
    "            cnt = 1\n",
    "    return str_new\n",
    "new_str = get_successive_count(bin_str)\n"
   ]
  },
  {
   "cell_type": "code",
   "execution_count": 18,
   "metadata": {},
   "outputs": [
    {
     "name": "stdout",
     "output_type": "stream",
     "text": [
      "35D5PE\n"
     ]
    }
   ],
   "source": [
    "email = \"rahulrrai19@gmail.com\"\n",
    "email_num_str = \"\"\n",
    "code_letters = \"0123456789ABCDEFGHIJKLMNOPQRSTUVWXYZ\"\n",
    "for i in email:\n",
    "    email_num_str += str(ord(i))\n",
    "\n",
    "UID = \"\"\n",
    "for i in range(6):\n",
    "    sum_str = \"\"\n",
    "    for j in email_num_str[i::6]:\n",
    "        sum_str += j\n",
    "    UID += code_letters[int(sum_str) % 36]\n",
    "    \n",
    "print(UID)\n"
   ]
  },
  {
   "cell_type": "code",
   "execution_count": null,
   "metadata": {},
   "outputs": [],
   "source": []
  },
  {
   "cell_type": "code",
   "execution_count": null,
   "metadata": {},
   "outputs": [],
   "source": []
  },
  {
   "cell_type": "code",
   "execution_count": null,
   "metadata": {},
   "outputs": [],
   "source": []
  }
 ],
 "metadata": {
  "kernelspec": {
   "display_name": "Python 3",
   "language": "python",
   "name": "python3"
  },
  "language_info": {
   "codemirror_mode": {
    "name": "ipython",
    "version": 3
   },
   "file_extension": ".py",
   "mimetype": "text/x-python",
   "name": "python",
   "nbconvert_exporter": "python",
   "pygments_lexer": "ipython3",
   "version": "3.7.6"
  }
 },
 "nbformat": 4,
 "nbformat_minor": 4
}
