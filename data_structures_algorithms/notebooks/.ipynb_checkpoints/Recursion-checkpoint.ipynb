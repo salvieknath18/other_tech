{
 "cells": [
  {
   "cell_type": "code",
   "execution_count": 5,
   "metadata": {},
   "outputs": [
    {
     "name": "stdout",
     "output_type": "stream",
     "text": [
      "A to B\n",
      "A to C\n",
      "B to C\n"
     ]
    }
   ],
   "source": [
    "# Tower of Hanoi\n",
    "\n",
    "def hanoi(n, beg, aux, end):\n",
    "    if n >= 1:\n",
    "        hanoi(n-1, beg, end, aux)\n",
    "        print(f\"{beg} to {end}\")\n",
    "        hanoi(n-1, aux, beg, end)\n",
    "        \n",
    "hanoi(4, \"A\", \"B\", \"C\")"
   ]
  },
  {
   "cell_type": "code",
   "execution_count": null,
   "metadata": {},
   "outputs": [],
   "source": []
  }
 ],
 "metadata": {
  "kernelspec": {
   "display_name": "Python 3",
   "language": "python",
   "name": "python3"
  },
  "language_info": {
   "codemirror_mode": {
    "name": "ipython",
    "version": 3
   },
   "file_extension": ".py",
   "mimetype": "text/x-python",
   "name": "python",
   "nbconvert_exporter": "python",
   "pygments_lexer": "ipython3",
   "version": "3.7.6"
  }
 },
 "nbformat": 4,
 "nbformat_minor": 4
}
