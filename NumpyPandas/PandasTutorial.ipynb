{
 "cells": [
  {
   "cell_type": "code",
   "execution_count": 14,
   "metadata": {},
   "outputs": [],
   "source": [
    "import numpy as np\n",
    "import pandas as pd"
   ]
  },
  {
   "cell_type": "code",
   "execution_count": null,
   "metadata": {},
   "outputs": [],
   "source": [
    "from math import sqrt\n",
    "x = [1, 1,]\n",
    "sum = 0\n",
    "for val in x:\n",
    "    sum += (val - 2.5) ** 2\n",
    "ans = sum/3\n",
    "print(sqrt(ans))"
   ]
  },
  {
   "cell_type": "code",
   "execution_count": 38,
   "metadata": {},
   "outputs": [
    {
     "name": "stdout",
     "output_type": "stream",
     "text": [
      "67.33333333333333\n",
      "    name  marks    city\n",
      "0  Harry     92  mumbai\n"
     ]
    }
   ],
   "source": [
    "dict1 = {\n",
    "    \"name\": [\"Harry\", \"Rohan\", \"skillf\", \"Shubh\", \"Harry1\", \"Rohan1\", \"skillf1\", \"Shubh1\"],\n",
    "    \"marks\": [92, 55, 55, 60, 92, 55, 55, 60],\n",
    "    \"city\": [\"Mumbai\", \"kolkata\", \"pune\", \"chennai\", \"kolkata\", \"Mumbai\", \"mumbai\", \"chennai\"]\n",
    "}\n",
    "    \n",
    "df = pd.DataFrame(dict1)\n",
    "df[\"city\"] = df[\"city\"].str.lower()\n",
    "df2 = df.loc[(df[\"city\"] == \"mumbai\")]\n",
    "mean_mub = df2[\"marks\"].mean()\n",
    "print(mean_mub)\n",
    "print(df2.loc[(df2[\"marks\"] > mean_mub)])"
   ]
  },
  {
   "cell_type": "code",
   "execution_count": 16,
   "metadata": {},
   "outputs": [
    {
     "name": "stdout",
     "output_type": "stream",
     "text": [
      "    name  marks     city\n",
      "0  Harry     92   mumbai\n",
      "1  Rohan     55  kolkata\n",
      "      name  marks     city\n",
      "6  skillf1     55   mumbai\n",
      "7   Shubh1     60  chennai\n",
      "           marks\n",
      "count   8.000000\n",
      "mean   65.500000\n",
      "std    16.501082\n",
      "min    55.000000\n",
      "25%    55.000000\n",
      "50%    57.500000\n",
      "75%    68.000000\n",
      "max    92.000000\n",
      "RangeIndex(start=0, stop=8, step=1)\n",
      "Index(['name', 'marks', 'city'], dtype='object')\n",
      "(8, 3)\n",
      "<class 'pandas.core.frame.DataFrame'>\n",
      "RangeIndex: 8 entries, 0 to 7\n",
      "Data columns (total 3 columns):\n",
      " #   Column  Non-Null Count  Dtype \n",
      "---  ------  --------------  ----- \n",
      " 0   name    8 non-null      object\n",
      " 1   marks   8 non-null      int64 \n",
      " 2   city    8 non-null      object\n",
      "dtypes: int64(1), object(2)\n",
      "memory usage: 320.0+ bytes\n",
      "None\n",
      "    name  marks   city\n",
      "0  False  False  False\n",
      "1  False  False  False\n",
      "2  False  False  False\n",
      "3  False  False  False\n",
      "4  False  False  False\n",
      "5  False  False  False\n",
      "6  False  False  False\n",
      "7  False  False  False\n",
      "55    4\n",
      "92    2\n",
      "60    2\n",
      "Name: marks, dtype: int64\n"
     ]
    }
   ],
   "source": [
    "print(df.head(2))\n",
    "print(df.tail(2))\n",
    "print(df.describe())\n",
    "print(df.index)\n",
    "print(df.columns)\n",
    "print(df.shape)\n",
    "print(df.info())\n",
    "print(df.isnull())\n",
    "print(df[\"marks\"].value_counts(dropna=False))\n",
    "# df.min() #max, mean, median, corr, count, std "
   ]
  },
  {
   "cell_type": "code",
   "execution_count": null,
   "metadata": {},
   "outputs": [],
   "source": [
    "df.to_csv(\"test_data.csv\")\n",
    "df.to_csv(\"test_data2.csv\", index=False)"
   ]
  },
  {
   "cell_type": "code",
   "execution_count": null,
   "metadata": {},
   "outputs": [],
   "source": [
    "test_data2 = pd.read_csv(\"test_data2.csv\")\n",
    "print(test_data2)\n",
    "print(test_data2[\"name\"][0])"
   ]
  },
  {
   "cell_type": "code",
   "execution_count": null,
   "metadata": {},
   "outputs": [],
   "source": [
    "test_data2.index = [\"00\", \"01\", \"10\", \"11\"]\n",
    "print(test_data2)"
   ]
  },
  {
   "cell_type": "code",
   "execution_count": null,
   "metadata": {},
   "outputs": [],
   "source": [
    "series_data = pd.Series(np.random.rand(10))\n",
    "print(series_data)\n",
    "print(type(series_data))"
   ]
  },
  {
   "cell_type": "code",
   "execution_count": null,
   "metadata": {},
   "outputs": [],
   "source": [
    "df2 = pd.DataFrame(np.random.rand(10,4))\n",
    "#print(df2.head())\n",
    "#print(df2.to_numpy)\n",
    "#print(df2.T)\n",
    "print(df2.sort_index(axis=0, ascending=False))\n",
    "df3 = df2.copy()\n",
    "print(df3[\"A\"].isnull())"
   ]
  },
  {
   "cell_type": "code",
   "execution_count": null,
   "metadata": {},
   "outputs": [],
   "source": [
    "df3 = pd.DataFrame(np.random.rand(10,4))\n",
    "df3.columns = list(\"ABCD\")\n",
    "# print(df3.loc[0, \"A\"]) # Use of loc function to access data\n",
    "# print(df3[\"A\"][0])\n",
    "df3[\"A\"][0] = 555\n",
    "# df3[\"E\"][0] = \"AASS\" #Gives an key error\n",
    "# df3.loc[0, \"E\"] = \"asaa\" # Adds new column with name E\n",
    "# print(df3.drop(\"E\", axis=1)) # To drop E column  Adding parameter inplace=True modifies df3 itself\n",
    "print(df3.drop([1,3], axis=0)) # To drop row 1,3\n",
    "# df3.reset_index(drop=True) # TO reset the index if 1 and 3 are deleted drop=True avoid to keep previous index\n",
    "df3.loc[[1,2], [\"C\",'D']]\n",
    "# df3.loc[:, [\"C\",'D']], df3.loc[[1,2], :] All row or column\n",
    "# df3.loc[(df3[\"A\"] < 0.3)] # (df3[\"A\"] < 0.3) -> gives True at 4 index all other values False\n",
    "# df3.iloc[[0,1], [1,2]] # iloc uses indexing for columns\n",
    "# df3.loc[:, [\"B\"]] = 5  # To assign value for whole column"
   ]
  },
  {
   "cell_type": "code",
   "execution_count": null,
   "metadata": {},
   "outputs": [],
   "source": [
    "df4 = pd.DataFrame({\"name\": ['Alfred', 'Batman', 'Catwoman'],\n",
    "                   \"toy\": [np.nan, 'Batmobile', 'Bullwhip'],\n",
    "                   \"born\": [pd.NaT, pd.Timestamp(\"1940-04-25\"),\n",
    "                            pd.NaT]})\n",
    "print(df4)\n",
    "print(df4.dropna())\n",
    "df4.iloc[1, 2] = None \n",
    "print(df4.dropna(how=\"all\", axis=1))\n",
    "df4.iloc[2, 0] = \"Alfred\"\n",
    "df4.drop_duplicates(subset=[\"name\"], keep=False) # keep=\"first\", keep=\"last\", keep=\"False\""
   ]
  },
  {
   "cell_type": "code",
   "execution_count": null,
   "metadata": {},
   "outputs": [],
   "source": [
    "excel_data = pd.read_excel(\"listdata.xlsx\") # Can Add sheet_name=\"Sheet1\"\n",
    "print(excel_data)\n",
    "excel_data.to_excel(\"listdata_new.xlsx\")"
   ]
  },
  {
   "cell_type": "code",
   "execution_count": null,
   "metadata": {},
   "outputs": [],
   "source": [
    "s = pd.Series([55, 55, 60, 99])\n",
    "s.describe()\n",
    "x = sorted(s)\n",
    "step = 100/3\n",
    "#y = [val *10 for val in x]\n",
    "y =[val * step for val in range(0, 4)]\n",
    "print(x)\n",
    "print(y)\n",
    "import matplotlib.pyplot as plt\n",
    "plt.plot(x, y)\n",
    "\n"
   ]
  },
  {
   "cell_type": "code",
   "execution_count": null,
   "metadata": {},
   "outputs": [],
   "source": [
    "s = pd.Series([55, 55, 60, 99])\n",
    "s.describe()"
   ]
  },
  {
   "cell_type": "code",
   "execution_count": 23,
   "metadata": {},
   "outputs": [
    {
     "name": "stdout",
     "output_type": "stream",
     "text": [
      "3\n",
      "     name  number\n",
      "1  eknath       1\n",
      "2   ameet       3\n",
      "3    abhi       2\n"
     ]
    }
   ],
   "source": [
    "import pandas as pd\n",
    "dict1 = {\"name\":\"number\"}\n",
    "column_names = [list(dict1.keys())[0], list(dict1.values())[0]]\n",
    "csv_data = pd.read_csv(\"sample.csv\", names=column_names)\n",
    "data_row = csv_data.shape[0]\n",
    "print(data_row)\n",
    "csv_data.index = list(range(1,data_row+1))\n",
    "csv_data.to_csv(\"sample2.csv\")\n",
    "print(csv_data)\n"
   ]
  },
  {
   "cell_type": "code",
   "execution_count": 56,
   "metadata": {},
   "outputs": [
    {
     "name": "stdout",
     "output_type": "stream",
     "text": [
      "      name  marks     city\n",
      "0    Harry     92   mumbai\n",
      "1    Rohan     55  kolkata\n",
      "2   skillf     55     pune\n",
      "3    Shubh     60  chennai\n",
      "4   Harry1     92  kolkata\n",
      "5   Rohan1     55   mumbai\n",
      "6  skillf1     55   mumbai\n",
      "7   Shubh1     60  chennai\n",
      "[92, 55, 55, 60, 92, 55, 55, 60]\n",
      "<class 'pandas.core.series.Series'>\n",
      "['T', '_AXIS_ALIASES', '_AXIS_IALIASES', '_AXIS_LEN', '_AXIS_NAMES', '_AXIS_NUMBERS', '_AXIS_ORDERS', '_AXIS_REVERSED', '_HANDLED_TYPES', '__abs__', '__add__', '__and__', '__annotations__', '__array__', '__array_priority__', '__array_ufunc__', '__array_wrap__', '__bool__', '__class__', '__contains__', '__copy__', '__deepcopy__', '__delattr__', '__delitem__', '__dict__', '__dir__', '__div__', '__divmod__', '__doc__', '__eq__', '__finalize__', '__float__', '__floordiv__', '__format__', '__ge__', '__getattr__', '__getattribute__', '__getitem__', '__getstate__', '__gt__', '__hash__', '__iadd__', '__iand__', '__ifloordiv__', '__imod__', '__imul__', '__init__', '__init_subclass__', '__int__', '__invert__', '__ior__', '__ipow__', '__isub__', '__iter__', '__itruediv__', '__ixor__', '__le__', '__len__', '__long__', '__lt__', '__matmul__', '__mod__', '__module__', '__mul__', '__ne__', '__neg__', '__new__', '__nonzero__', '__or__', '__pos__', '__pow__', '__radd__', '__rand__', '__rdiv__', '__rdivmod__', '__reduce__', '__reduce_ex__', '__repr__', '__rfloordiv__', '__rmatmul__', '__rmod__', '__rmul__', '__ror__', '__round__', '__rpow__', '__rsub__', '__rtruediv__', '__rxor__', '__setattr__', '__setitem__', '__setstate__', '__sizeof__', '__str__', '__sub__', '__subclasshook__', '__truediv__', '__weakref__', '__xor__', '_accessors', '_add_numeric_operations', '_add_series_or_dataframe_operations', '_agg_by_level', '_agg_examples_doc', '_agg_see_also_doc', '_aggregate', '_aggregate_multiple_funcs', '_align_frame', '_align_series', '_binop', '_box_item_values', '_builtin_table', '_can_hold_na', '_check_inplace_setting', '_check_is_chained_assignment_possible', '_check_label_or_level_ambiguity', '_check_setitem_copy', '_clear_item_cache', '_clip_with_one_bound', '_clip_with_scalar', '_consolidate', '_consolidate_inplace', '_construct_axes_dict', '_construct_axes_dict_from', '_construct_axes_from_arguments', '_constructor', '_constructor_expanddim', '_constructor_sliced', '_convert', '_convert_dtypes', '_create_indexer', '_cython_table', '_deprecations', '_dir_additions', '_dir_deletions', '_drop_axis', '_drop_labels_or_levels', '_ensure_type', '_find_valid_index', '_from_axes', '_get_axis', '_get_axis_name', '_get_axis_number', '_get_axis_resolvers', '_get_block_manager_axis', '_get_bool_data', '_get_cacher', '_get_cleaned_column_resolvers', '_get_cython_func', '_get_index_resolvers', '_get_item_cache', '_get_label_or_level_values', '_get_numeric_data', '_get_value', '_get_values', '_get_values_tuple', '_get_with', '_gotitem', '_iget_item_cache', '_index', '_indexed_same', '_info_axis', '_info_axis_name', '_info_axis_number', '_init_dict', '_init_mgr', '_internal_get_values', '_internal_names', '_internal_names_set', '_is_builtin_func', '_is_cached', '_is_copy', '_is_datelike_mixed_type', '_is_label_or_level_reference', '_is_label_reference', '_is_level_reference', '_is_mixed_type', '_is_numeric_mixed_type', '_is_view', '_ix', '_ixs', '_map_values', '_maybe_cache_changed', '_maybe_update_cacher', '_metadata', '_ndarray_values', '_needs_reindex_multi', '_obj_with_exclusions', '_protect_consolidate', '_reduce', '_reindex_axes', '_reindex_indexer', '_reindex_multi', '_reindex_with_indexers', '_repr_data_resource_', '_repr_latex_', '_reset_cache', '_reset_cacher', '_selected_obj', '_selection', '_selection_list', '_selection_name', '_set_as_cached', '_set_axis', '_set_axis_name', '_set_is_copy', '_set_item', '_set_labels', '_set_name', '_set_subtyp', '_set_value', '_set_values', '_set_with', '_set_with_engine', '_setup_axes', '_slice', '_stat_axis', '_stat_axis_name', '_stat_axis_number', '_take_with_is_copy', '_to_dict_of_blocks', '_try_aggregate_string_function', '_typ', '_unpickle_series_compat', '_update_inplace', '_validate_dtype', '_values', '_where', '_xs', 'abs', 'add', 'add_prefix', 'add_suffix', 'agg', 'aggregate', 'align', 'all', 'any', 'append', 'apply', 'argmax', 'argmin', 'argsort', 'array', 'asfreq', 'asof', 'astype', 'at', 'at_time', 'attrs', 'autocorr', 'axes', 'between', 'between_time', 'bfill', 'bool', 'clip', 'combine', 'combine_first', 'convert_dtypes', 'copy', 'corr', 'count', 'cov', 'cummax', 'cummin', 'cumprod', 'cumsum', 'describe', 'diff', 'div', 'divide', 'divmod', 'dot', 'drop', 'drop_duplicates', 'droplevel', 'dropna', 'dtype', 'dtypes', 'duplicated', 'empty', 'eq', 'equals', 'ewm', 'expanding', 'explode', 'factorize', 'ffill', 'fillna', 'filter', 'first', 'first_valid_index', 'floordiv', 'ge', 'get', 'groupby', 'gt', 'hasnans', 'head', 'hist', 'iat', 'idxmax', 'idxmin', 'iloc', 'index', 'infer_objects', 'interpolate', 'is_monotonic', 'is_monotonic_decreasing', 'is_monotonic_increasing', 'is_unique', 'isin', 'isna', 'isnull', 'item', 'items', 'iteritems', 'keys', 'kurt', 'kurtosis', 'last', 'last_valid_index', 'le', 'loc', 'lt', 'mad', 'map', 'mask', 'max', 'mean', 'median', 'memory_usage', 'min', 'mod', 'mode', 'mul', 'multiply', 'name', 'nbytes', 'ndim', 'ne', 'nlargest', 'notna', 'notnull', 'nsmallest', 'nunique', 'pct_change', 'pipe', 'plot', 'pop', 'pow', 'prod', 'product', 'quantile', 'radd', 'rank', 'ravel', 'rdiv', 'rdivmod', 'reindex', 'reindex_like', 'rename', 'rename_axis', 'reorder_levels', 'repeat', 'replace', 'resample', 'reset_index', 'rfloordiv', 'rmod', 'rmul', 'rolling', 'round', 'rpow', 'rsub', 'rtruediv', 'sample', 'searchsorted', 'sem', 'set_axis', 'shape', 'shift', 'size', 'skew', 'slice_shift', 'sort_index', 'sort_values', 'squeeze', 'std', 'str', 'sub', 'subtract', 'sum', 'swapaxes', 'swaplevel', 'tail', 'take', 'to_clipboard', 'to_csv', 'to_dict', 'to_excel', 'to_frame', 'to_hdf', 'to_json', 'to_latex', 'to_list', 'to_markdown', 'to_numpy', 'to_period', 'to_pickle', 'to_sql', 'to_string', 'to_timestamp', 'to_xarray', 'transform', 'transpose', 'truediv', 'truncate', 'tshift', 'tz_convert', 'tz_localize', 'unique', 'unstack', 'update', 'value_counts', 'values', 'var', 'view', 'where', 'xs']\n",
      "Harry\n",
      "Rohan\n",
      "skillf\n",
      "Shubh\n",
      "Harry1\n",
      "Rohan1\n",
      "skillf1\n",
      "Shubh1\n"
     ]
    }
   ],
   "source": [
    "df3 = pd.DataFrame(np.random.rand(10,4))\n",
    "df3.columns = list(\"ABCD\")\n",
    "#df.index = list(range(10))\n",
    "\n",
    "#df.index = list(range(1,9))\n",
    "#df.columns = list(\"ABC\")\n",
    "#print(df.loc[0, \"name\"])\n",
    "#print(df3)\n",
    "print(df)\n",
    "print(df[\"marks\"].to_list())\n",
    "print(type(df[\"name\"])) # Use of loc function to access data\n",
    "print(dir(df[\"name\"]))\n",
    "for ele in df[\"name\"] :\n",
    "    print(ele)\n",
    "# print(df3[\"A\"][0])\n",
    "#df3[\"A\"][0] = 555\n",
    "# df3[\"E\"][0] = \"AASS\" #Gives an key error\n",
    "# df3.loc[0, \"E\"] = \"asaa\" # Adds new column with name E\n",
    "# print(df3.drop(\"E\", axis=1)) # To drop E column  Adding parameter inplace=True modifies df3 itself\n",
    "#print(df3.drop([1,3], axis=0)) # To drop row 1,3\n",
    "# df3.reset_index(drop=True) # TO reset the index if 1 and 3 are deleted drop=True avoid to keep previous index\n",
    "#df3.loc[[1,2], [\"C\",'D']]\n",
    "# df3.loc[:, [\"C\",'D']], df3.loc[[1,2], :] All row or column\n",
    "# df3.loc[(df3[\"A\"] < 0.3)] # (df3[\"A\"] < 0.3) -> gives True at 4 index all other values False\n",
    "# df3.iloc[[0,1], [1,2]] # iloc uses indexing for columns\n",
    "# df3.loc[:, [\"B\"]] = 5  # To assign value for whole column"
   ]
  }
 ],
 "metadata": {
  "kernelspec": {
   "display_name": "Python 3",
   "language": "python",
   "name": "python3"
  },
  "language_info": {
   "codemirror_mode": {
    "name": "ipython",
    "version": 3
   },
   "file_extension": ".py",
   "mimetype": "text/x-python",
   "name": "python",
   "nbconvert_exporter": "python",
   "pygments_lexer": "ipython3",
   "version": "3.7.6"
  }
 },
 "nbformat": 4,
 "nbformat_minor": 4
}
