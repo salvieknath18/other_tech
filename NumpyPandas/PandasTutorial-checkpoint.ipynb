{
 "cells": [
  {
   "cell_type": "code",
   "execution_count": 14,
   "metadata": {},
   "outputs": [],
   "source": [
    "import numpy as np\n",
    "import pandas as pd"
   ]
  },
  {
   "cell_type": "code",
   "execution_count": null,
   "metadata": {},
   "outputs": [],
   "source": [
    "from math import sqrt\n",
    "x = [1, 1,]\n",
    "sum = 0\n",
    "for val in x:\n",
    "    sum += (val - 2.5) ** 2\n",
    "ans = sum/3\n",
    "print(sqrt(ans))"
   ]
  },
  {
   "cell_type": "code",
   "execution_count": 38,
   "metadata": {},
   "outputs": [
    {
     "name": "stdout",
     "output_type": "stream",
     "text": [
      "67.33333333333333\n",
      "    name  marks    city\n",
      "0  Harry     92  mumbai\n"
     ]
    }
   ],
   "source": [
    "dict1 = {\n",
    "    \"name\": [\"Harry\", \"Rohan\", \"skillf\", \"Shubh\", \"Harry1\", \"Rohan1\", \"skillf1\", \"Shubh1\"],\n",
    "    \"marks\": [92, 55, 55, 60, 92, 55, 55, 60],\n",
    "    \"city\": [\"Mumbai\", \"kolkata\", \"pune\", \"chennai\", \"kolkata\", \"Mumbai\", \"mumbai\", \"chennai\"]\n",
    "}\n",
    "    \n",
    "df = pd.DataFrame(dict1)\n",
    "df[\"city\"] = df[\"city\"].str.lower()\n",
    "df2 = df.loc[(df[\"city\"] == \"mumbai\")]\n",
    "mean_mub = df2[\"marks\"].mean()\n",
    "print(mean_mub)\n",
    "print(df2.loc[(df2[\"marks\"] > mean_mub)])"
   ]
  },
  {
   "cell_type": "code",
   "execution_count": 16,
   "metadata": {},
   "outputs": [
    {
     "name": "stdout",
     "output_type": "stream",
     "text": [
      "    name  marks     city\n",
      "0  Harry     92   mumbai\n",
      "1  Rohan     55  kolkata\n",
      "      name  marks     city\n",
      "6  skillf1     55   mumbai\n",
      "7   Shubh1     60  chennai\n",
      "           marks\n",
      "count   8.000000\n",
      "mean   65.500000\n",
      "std    16.501082\n",
      "min    55.000000\n",
      "25%    55.000000\n",
      "50%    57.500000\n",
      "75%    68.000000\n",
      "max    92.000000\n",
      "RangeIndex(start=0, stop=8, step=1)\n",
      "Index(['name', 'marks', 'city'], dtype='object')\n",
      "(8, 3)\n",
      "<class 'pandas.core.frame.DataFrame'>\n",
      "RangeIndex: 8 entries, 0 to 7\n",
      "Data columns (total 3 columns):\n",
      " #   Column  Non-Null Count  Dtype \n",
      "---  ------  --------------  ----- \n",
      " 0   name    8 non-null      object\n",
      " 1   marks   8 non-null      int64 \n",
      " 2   city    8 non-null      object\n",
      "dtypes: int64(1), object(2)\n",
      "memory usage: 320.0+ bytes\n",
      "None\n",
      "    name  marks   city\n",
      "0  False  False  False\n",
      "1  False  False  False\n",
      "2  False  False  False\n",
      "3  False  False  False\n",
      "4  False  False  False\n",
      "5  False  False  False\n",
      "6  False  False  False\n",
      "7  False  False  False\n",
      "55    4\n",
      "92    2\n",
      "60    2\n",
      "Name: marks, dtype: int64\n"
     ]
    }
   ],
   "source": [
    "print(df.head(2))\n",
    "print(df.tail(2))\n",
    "print(df.describe())\n",
    "print(df.index)\n",
    "print(df.columns)\n",
    "print(df.shape)\n",
    "print(df.info())\n",
    "print(df.isnull())\n",
    "print(df[\"marks\"].value_counts(dropna=False))\n",
    "# df.min() #max, mean, median, corr, count, std "
   ]
  },
  {
   "cell_type": "code",
   "execution_count": null,
   "metadata": {},
   "outputs": [],
   "source": [
    "df.to_csv(\"test_data.csv\")\n",
    "df.to_csv(\"test_data2.csv\", index=False)"
   ]
  },
  {
   "cell_type": "code",
   "execution_count": null,
   "metadata": {},
   "outputs": [],
   "source": [
    "test_data2 = pd.read_csv(\"test_data2.csv\")\n",
    "print(test_data2)\n",
    "print(test_data2[\"name\"][0])"
   ]
  },
  {
   "cell_type": "code",
   "execution_count": null,
   "metadata": {},
   "outputs": [],
   "source": [
    "test_data2.index = [\"00\", \"01\", \"10\", \"11\"]\n",
    "print(test_data2)"
   ]
  },
  {
   "cell_type": "code",
   "execution_count": null,
   "metadata": {},
   "outputs": [],
   "source": [
    "series_data = pd.Series(np.random.rand(10))\n",
    "print(series_data)\n",
    "print(type(series_data))"
   ]
  },
  {
   "cell_type": "code",
   "execution_count": null,
   "metadata": {},
   "outputs": [],
   "source": [
    "df2 = pd.DataFrame(np.random.rand(10,4))\n",
    "#print(df2.head())\n",
    "#print(df2.to_numpy)\n",
    "#print(df2.T)\n",
    "print(df2.sort_index(axis=0, ascending=False))\n",
    "df3 = df2.copy()\n",
    "print(df3[\"A\"].isnull())"
   ]
  },
  {
   "cell_type": "code",
   "execution_count": null,
   "metadata": {},
   "outputs": [],
   "source": [
    "df3 = pd.DataFrame(np.random.rand(10,4))\n",
    "df3.columns = list(\"ABCD\")\n",
    "# print(df3.loc[0, \"A\"]) # Use of loc function to access data\n",
    "# print(df3[\"A\"][0])\n",
    "df3[\"A\"][0] = 555\n",
    "# df3[\"E\"][0] = \"AASS\" #Gives an key error\n",
    "# df3.loc[0, \"E\"] = \"asaa\" # Adds new column with name E\n",
    "# print(df3.drop(\"E\", axis=1)) # To drop E column  Adding parameter inplace=True modifies df3 itself\n",
    "print(df3.drop([1,3], axis=0)) # To drop row 1,3\n",
    "# df3.reset_index(drop=True) # TO reset the index if 1 and 3 are deleted drop=True avoid to keep previous index\n",
    "df3.loc[[1,2], [\"C\",'D']]\n",
    "# df3.loc[:, [\"C\",'D']], df3.loc[[1,2], :] All row or column\n",
    "# df3.loc[(df3[\"A\"] < 0.3)] # (df3[\"A\"] < 0.3) -> gives True at 4 index all other values False\n",
    "# df3.iloc[[0,1], [1,2]] # iloc uses indexing for columns\n",
    "# df3.loc[:, [\"B\"]] = 5  # To assign value for whole column"
   ]
  },
  {
   "cell_type": "code",
   "execution_count": null,
   "metadata": {},
   "outputs": [],
   "source": [
    "df4 = pd.DataFrame({\"name\": ['Alfred', 'Batman', 'Catwoman'],\n",
    "                   \"toy\": [np.nan, 'Batmobile', 'Bullwhip'],\n",
    "                   \"born\": [pd.NaT, pd.Timestamp(\"1940-04-25\"),\n",
    "                            pd.NaT]})\n",
    "print(df4)\n",
    "print(df4.dropna())\n",
    "df4.iloc[1, 2] = None \n",
    "print(df4.dropna(how=\"all\", axis=1))\n",
    "df4.iloc[2, 0] = \"Alfred\"\n",
    "df4.drop_duplicates(subset=[\"name\"], keep=False) # keep=\"first\", keep=\"last\", keep=\"False\""
   ]
  },
  {
   "cell_type": "code",
   "execution_count": null,
   "metadata": {},
   "outputs": [],
   "source": [
    "excel_data = pd.read_excel(\"listdata.xlsx\") # Can Add sheet_name=\"Sheet1\"\n",
    "print(excel_data)\n",
    "excel_data.to_excel(\"listdata_new.xlsx\")"
   ]
  },
  {
   "cell_type": "code",
   "execution_count": null,
   "metadata": {},
   "outputs": [],
   "source": [
    "s = pd.Series([55, 55, 60, 99])\n",
    "s.describe()\n",
    "x = sorted(s)\n",
    "step = 100/3\n",
    "#y = [val *10 for val in x]\n",
    "y =[val * step for val in range(0, 4)]\n",
    "print(x)\n",
    "print(y)\n",
    "import matplotlib.pyplot as plt\n",
    "plt.plot(x, y)\n",
    "\n"
   ]
  },
  {
   "cell_type": "code",
   "execution_count": null,
   "metadata": {},
   "outputs": [],
   "source": [
    "s = pd.Series([55, 55, 60, 99])\n",
    "s.describe()"
   ]
  },
  {
   "cell_type": "code",
   "execution_count": 23,
   "metadata": {},
   "outputs": [
    {
     "name": "stdout",
     "output_type": "stream",
     "text": [
      "3\n",
      "     name  number\n",
      "1  eknath       1\n",
      "2   ameet       3\n",
      "3    abhi       2\n"
     ]
    }
   ],
   "source": [
    "import pandas as pd\n",
    "dict1 = {\"name\":\"number\"}\n",
    "column_names = [list(dict1.keys())[0], list(dict1.values())[0]]\n",
    "csv_data = pd.read_csv(\"sample.csv\", names=column_names)\n",
    "data_row = csv_data.shape[0]\n",
    "print(data_row)\n",
    "csv_data.index = list(range(1,data_row+1))\n",
    "csv_data.to_csv(\"sample2.csv\")\n",
    "print(csv_data)\n"
   ]
  },
  {
   "cell_type": "code",
   "execution_count": 49,
   "metadata": {},
   "outputs": [
    {
     "ename": "SyntaxError",
     "evalue": "unexpected EOF while parsing (<ipython-input-49-93ac26bae42e>, line 22)",
     "output_type": "error",
     "traceback": [
      "\u001b[1;36m  File \u001b[1;32m\"<ipython-input-49-93ac26bae42e>\"\u001b[1;36m, line \u001b[1;32m22\u001b[0m\n\u001b[1;33m    # df3.loc[:, [\"B\"]] = 5  # To assign value for whole column\u001b[0m\n\u001b[1;37m                                                               ^\u001b[0m\n\u001b[1;31mSyntaxError\u001b[0m\u001b[1;31m:\u001b[0m unexpected EOF while parsing\n"
     ]
    }
   ],
   "source": [
    "df3 = pd.DataFrame(np.random.rand(10,4))\n",
    "df3.columns = list(\"ABCD\")\n",
    "#df.index = list(range(10))\n",
    "\n",
    "#df.index = list(range(1,9))\n",
    "#df.columns = list(\"ABC\")\n",
    "#print(df.loc[0, \"name\"])\n",
    "#print(df3)\n",
    "print(df)\n",
    "print(type(df[\"name\"])) # Use of loc function to access data\n",
    "# print(df3[\"A\"][0])\n",
    "#df3[\"A\"][0] = 555\n",
    "# df3[\"E\"][0] = \"AASS\" #Gives an key error\n",
    "# df3.loc[0, \"E\"] = \"asaa\" # Adds new column with name E\n",
    "# print(df3.drop(\"E\", axis=1)) # To drop E column  Adding parameter inplace=True modifies df3 itself\n",
    "#print(df3.drop([1,3], axis=0)) # To drop row 1,3\n",
    "# df3.reset_index(drop=True) # TO reset the index if 1 and 3 are deleted drop=True avoid to keep previous index\n",
    "#df3.loc[[1,2], [\"C\",'D']]\n",
    "# df3.loc[:, [\"C\",'D']], df3.loc[[1,2], :] All row or column\n",
    "# df3.loc[(df3[\"A\"] < 0.3)] # (df3[\"A\"] < 0.3) -> gives True at 4 index all other values False\n",
    "# df3.iloc[[0,1], [1,2]] # iloc uses indexing for columns\n",
    "# df3.loc[:, [\"B\"]] = 5  # To assign value for whole column"
   ]
  }
 ],
 "metadata": {
  "kernelspec": {
   "display_name": "Python 3",
   "language": "python",
   "name": "python3"
  },
  "language_info": {
   "codemirror_mode": {
    "name": "ipython",
    "version": 3
   },
   "file_extension": ".py",
   "mimetype": "text/x-python",
   "name": "python",
   "nbconvert_exporter": "python",
   "pygments_lexer": "ipython3",
   "version": "3.7.6"
  }
 },
 "nbformat": 4,
 "nbformat_minor": 4
}
