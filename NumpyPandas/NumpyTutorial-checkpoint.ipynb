{
 "cells": [
  {
   "cell_type": "code",
   "execution_count": null,
   "metadata": {},
   "outputs": [],
   "source": [
    "import numpy as np"
   ]
  },
  {
   "cell_type": "code",
   "execution_count": null,
   "metadata": {},
   "outputs": [],
   "source": [
    "myarr = np.array([[3,4,7,12,78]], np.int64)"
   ]
  },
  {
   "cell_type": "code",
   "execution_count": null,
   "metadata": {},
   "outputs": [],
   "source": [
    "print(myarr.shape)\n",
    "print(myarr[0,1])"
   ]
  },
  {
   "cell_type": "code",
   "execution_count": null,
   "metadata": {},
   "outputs": [],
   "source": [
    "listarray = np.array([[1,2,3],[4,5,6],[7,8,9]])\n",
    "print(listarray.dtype)\n",
    "print(listarray.shape)\n",
    "print(listarray.size)"
   ]
  },
  {
   "cell_type": "code",
   "execution_count": null,
   "metadata": {},
   "outputs": [],
   "source": [
    "print(np.zeros((2,5)))\n",
    "print(np.arange(15))\n",
    "print(np.linspace(1,50,10))\n",
    "print(np.empty((4,6)))\n",
    "print(np.identity(5))"
   ]
  },
  {
   "cell_type": "code",
   "execution_count": null,
   "metadata": {},
   "outputs": [],
   "source": [
    "arr = np.arange(99)\n",
    "print(arr.reshape(3,33))\n",
    "print(arr.reshape(3,33).ravel())\n",
    "#can do element wise operations in matrix ar1+ar2, ar1*ar2, np.sqrt(ar1)\n",
    "arr.sum()\n",
    "arr.max()\n",
    "arr.min()"
   ]
  },
  {
   "cell_type": "code",
   "execution_count": null,
   "metadata": {},
   "outputs": [],
   "source": [
    "arr2 = np.array([[1,2,3],[4,5,6],[7,8,9]])\n",
    "arr3 = np.array([3,17,7,4,2,9])\n",
    "print(arr2.sum(axis=0))\n",
    "print(arr2.T) # Transpose\n",
    "for item in arr2.flat:\n",
    "    print(item)\n",
    "print(arr2.ndim)\n",
    "print(arr2.size)\n",
    "print(arr2.nbytes)\n",
    "print(arr3.argmax())\n",
    "print(arr2.argmax(axis=0))\n",
    "print(arr2.argmin())\n",
    "print(arr2.argsort())\n",
    "print(arr3.argsort())"
   ]
  },
  {
   "cell_type": "code",
   "execution_count": null,
   "metadata": {},
   "outputs": [],
   "source": [
    "arr4 = np.array([[1,2,3],[4,5,6],[7,8,9]])\n",
    "print(np.where(arr4>4))\n",
    "print(np.nonzero(arr4))\n",
    "print(np.count_nonzero(arr4))"
   ]
  },
  {
   "cell_type": "markdown",
   "metadata": {},
   "source": [
    "How numpy handles numerical exceptions\n",
    "The default is to 'warn' for invalid, divide, and overflow and 'ignore' for underflow. \n",
    "But this can be changed, and it can be set individually for different kinds of exceptions. The different behaviors are:\n",
    "‘ignore’ : Take no action when the exception occurs.\n",
    "‘warn’ : Print a RuntimeWarning (via the Python warnings module).\n",
    "‘raise’ : Raise a FloatingPointError.\n",
    "‘call’ : Call a function specified using the seterrcall function.\n",
    "‘print’ : Print a warning directly to stdout.\n",
    "‘log’ : Record error in a Log object specified by seterrcall.\n",
    "\n",
    "These behaviors can be set for all kinds of errors or specific ones:\n",
    "all : apply to all numeric exceptions\n",
    "invalid : when NaNs are generated\n",
    "divide : divide by zero (for integers as well!)\n",
    "overflow : floating point overflows\n",
    "underflow : floating point underflows\n",
    "\n",
    "FOr more info: https://numpy.org/doc/1.19/user/misc.html"
   ]
  },
  {
   "cell_type": "code",
   "execution_count": null,
   "metadata": {},
   "outputs": [],
   "source": []
  }
 ],
 "metadata": {
  "kernelspec": {
   "display_name": "Python 3",
   "language": "python",
   "name": "python3"
  },
  "language_info": {
   "codemirror_mode": {
    "name": "ipython",
    "version": 3
   },
   "file_extension": ".py",
   "mimetype": "text/x-python",
   "name": "python",
   "nbconvert_exporter": "python",
   "pygments_lexer": "ipython3",
   "version": "3.7.6"
  }
 },
 "nbformat": 4,
 "nbformat_minor": 4
}
