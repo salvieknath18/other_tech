{
 "cells": [
  {
   "cell_type": "code",
   "execution_count": 12,
   "metadata": {},
   "outputs": [
    {
     "name": "stdout",
     "output_type": "stream",
     "text": [
      "hello to Jupyter\n"
     ]
    }
   ],
   "source": [
    "print(\"hello to Jupyter\")"
   ]
  },
  {
   "cell_type": "markdown",
   "metadata": {},
   "source": [
    "## IPython\n",
    "### IPython offers more features compared to the standard Python\n",
    "\n",
    "- Offers a powerful interactive Python shell.\n",
    "\n",
    "- Acts as a main kernel for Jupyter notebook and other front end tools of Project Jupyter.\n",
    "\n",
    "- Possesses object introspection ability. Introspection is the ability to check properties of an object during runtime.\n",
    "\n",
    "- Syntax highlighting.\n",
    "\n",
    "- Stores the history of interactions.\n",
    "\n",
    "- Tab completion of keywords, variables and function names.\n",
    "\n",
    "- Magic command system useful for controlling Python environment and performing OS tasks.\n",
    "\n",
    "- Ability to be embedded in other Python programs.\n",
    "\n",
    "- Provides access to Python debugger.\n",
    "\n",
    "### IPython’s in-built magic functions are extremely powerful. \n",
    "#### There are two types of magic functions.\n",
    "- Line magics, which work very much like DOS commands.\n",
    "- Cell magics, which work on multiple lines of code."
   ]
  },
  {
   "cell_type": "markdown",
   "metadata": {},
   "source": [
    "Use of ? and ?? provides specific and more detailed information about the object"
   ]
  },
  {
   "cell_type": "code",
   "execution_count": 13,
   "metadata": {},
   "outputs": [],
   "source": [
    "var = \"ABCD\""
   ]
  },
  {
   "cell_type": "code",
   "execution_count": 14,
   "metadata": {},
   "outputs": [],
   "source": [
    "var?"
   ]
  },
  {
   "cell_type": "markdown",
   "metadata": {},
   "source": [
    "- You can use run command in the input prompt to run a Python script. \n",
    "- The run command is actually line magic command and should actually be written as %run. However, the %automagic mode is always on by default, so you can omit this."
   ]
  },
  {
   "cell_type": "code",
   "execution_count": 16,
   "metadata": {},
   "outputs": [
    {
     "name": "stdout",
     "output_type": "stream",
     "text": [
      "Hello this is test script\n"
     ]
    }
   ],
   "source": [
    "run hello.py"
   ]
  },
  {
   "cell_type": "markdown",
   "metadata": {},
   "source": [
    "IPython also provides edit magic command. It invokes default editor of the operating system. \n",
    "You can open it through Windows Notepad editor and the script can be edited. \n",
    "Once you close it after saving its input, the output of modified script will be displayed."
   ]
  },
  {
   "cell_type": "code",
   "execution_count": 18,
   "metadata": {},
   "outputs": [],
   "source": [
    "edit hello.py"
   ]
  },
  {
   "cell_type": "markdown",
   "metadata": {},
   "source": [
    "The history magic command shows previous commands in current session"
   ]
  },
  {
   "cell_type": "code",
   "execution_count": null,
   "metadata": {},
   "outputs": [],
   "source": [
    "history"
   ]
  },
  {
   "cell_type": "markdown",
   "metadata": {},
   "source": [
    "If the statement in the input cell starts with the exclamation symbol (!), \n",
    "it is treated as a system command for underlying operating system. \n",
    "For example, !ls (for linux) and !dir (for windows) displays the contents of current directory"
   ]
  },
  {
   "cell_type": "code",
   "execution_count": 21,
   "metadata": {},
   "outputs": [
    {
     "name": "stdout",
     "output_type": "stream",
     "text": [
      "Sun Mar 15 14:22:23 IST 2020\r\n"
     ]
    }
   ],
   "source": [
    "!date"
   ]
  },
  {
   "cell_type": "code",
   "execution_count": 26,
   "metadata": {},
   "outputs": [
    {
     "name": "stdout",
     "output_type": "stream",
     "text": [
      "['Sun Mar 15 14:24:12 IST 2020']\n"
     ]
    }
   ],
   "source": [
    "var = !date\n",
    "print(var)\n",
    "string1 = \"ABCD\""
   ]
  },
  {
   "cell_type": "code",
   "execution_count": 27,
   "metadata": {},
   "outputs": [
    {
     "name": "stdout",
     "output_type": "stream",
     "text": [
      "my name is ABCD\r\n"
     ]
    }
   ],
   "source": [
    "!echo \"my name is {string1}\""
   ]
  },
  {
   "cell_type": "markdown",
   "metadata": {},
   "source": [
    "C:\\python36> *ipython [subcommand] [options] [-c cmd | -m mod | file] [--] [arg]* <br />\n",
    "C:\\python36> *ipython hello.py* <br />\n",
    "Hello IPython <br />\n",
    "welcome to interactive computing <br />"
   ]
  },
  {
   "cell_type": "markdown",
   "metadata": {},
   "source": [
    "### Subcommands and Parameters\n",
    "#### An IPython command accepts the following subcommand options −\n",
    "\n",
    "- **Profile** − Create and manage IPython profiles.\n",
    "\n",
    "- **Kernel** − Start a kernel without an attached frontend.\n",
    "\n",
    "- **Locate** − Print the path to the IPython dir.\n",
    "\n",
    "- **History** − Manage the IPython history database.\n",
    "\n",
    "#### An IPython profile subcommand accepts the following parameters −\n",
    "\n",
    "- **ipython profile create myprofile** − Creates a new profile.\n",
    "\n",
    "- **ipython profile list** − Lists all available profiles.\n",
    "\n",
    "- **ipython locate profile myprofile** − Locates required profile.\n",
    "\n",
    "### To install new IPython kernel, use the following command −\n",
    "\n",
    "*Ipython kernel –install –name*\n",
    "### To print the path to the IPython dir, use the following command −\n",
    "\n",
    "*C:\\python36>ipython locate myprofile*"
   ]
  },
  {
   "cell_type": "code",
   "execution_count": null,
   "metadata": {},
   "outputs": [],
   "source": []
  }
 ],
 "metadata": {
  "kernelspec": {
   "display_name": "Python 3",
   "language": "python",
   "name": "python3"
  },
  "language_info": {
   "codemirror_mode": {
    "name": "ipython",
    "version": 3
   },
   "file_extension": ".py",
   "mimetype": "text/x-python",
   "name": "python",
   "nbconvert_exporter": "python",
   "pygments_lexer": "ipython3",
   "version": "3.7.6"
  }
 },
 "nbformat": 4,
 "nbformat_minor": 4
}
